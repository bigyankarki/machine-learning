{
  "nbformat": 4,
  "nbformat_minor": 0,
  "metadata": {
    "colab": {
      "name": "CNN-MNIST",
      "version": "0.3.2",
      "views": {},
      "default_view": {},
      "provenance": [],
      "collapsed_sections": []
    },
    "kernelspec": {
      "name": "python3",
      "display_name": "Python 3"
    },
    "accelerator": "GPU"
  },
  "cells": [
    {
      "metadata": {
        "id": "0Z6gpHRSL45e",
        "colab_type": "code",
        "colab": {
          "autoexec": {
            "startup": false,
            "wait_interval": 0
          }
        }
      },
      "cell_type": "code",
      "source": [
        "# Import Dependencies.\n",
        "import tensorflow as tf\n",
        "import matplotlib.pyplot as plt\n",
        "import numpy as np"
      ],
      "execution_count": 0,
      "outputs": []
    },
    {
      "metadata": {
        "id": "gPmE20vUM22w",
        "colab_type": "code",
        "colab": {
          "autoexec": {
            "startup": false,
            "wait_interval": 0
          }
        }
      },
      "cell_type": "code",
      "source": [
        "# -------------------------Construction phase-----------------------------------------------\n",
        "# Defining hyperparameters\n",
        "\n",
        "height = 28\n",
        "width = 28\n",
        "channels = 1\n",
        "n_inputs = height * width\n",
        "\n",
        "conv1_fmaps = 32\n",
        "conv1_ksize = 3\n",
        "conv1_stride = 1\n",
        "conv1_pad = \"SAME\"\n",
        "\n",
        "conv2_fmaps = 64\n",
        "conv2_ksize = 3\n",
        "conv2_stride = 1\n",
        "conv2_pad = \"SAME\"\n",
        "conv2_dropout_rate = 0.25\n",
        "\n",
        "\n",
        "pool3_fmaps = conv2_fmaps\n",
        "\n",
        "n_fc1 = 64\n",
        "n_outputs = 10\n",
        "fc1_dropout_rate = 0.5\n"
      ],
      "execution_count": 0,
      "outputs": []
    },
    {
      "metadata": {
        "id": "kGGkLYLZNRyJ",
        "colab_type": "code",
        "colab": {
          "autoexec": {
            "startup": false,
            "wait_interval": 0
          }
        }
      },
      "cell_type": "code",
      "source": [
        "# defining namescope of inputs and conulational layers\n",
        "with tf.name_scope(\"inputs\"):\n",
        "    X = tf.placeholder(tf.float32, shape=[None, n_inputs], name=\"X\")\n",
        "    X_reshaped = tf.reshape(X, shape=[-1, height, width, channels])\n",
        "    y = tf.placeholder(tf.int32, shape=[None], name=\"y\")\n",
        "    training = tf.placeholder_with_default(False, shape=[], name='training')\n",
        "\n",
        "conv1 = tf.layers.conv2d(X_reshaped, filters=conv1_fmaps, kernel_size=conv1_ksize,\n",
        "                         strides=conv1_stride, padding=conv1_pad,\n",
        "                         activation=tf.nn.relu, name=\"conv1\")\n",
        "conv2 = tf.layers.conv2d(conv1, filters=conv2_fmaps, kernel_size=conv2_ksize,\n",
        "                         strides=conv2_stride, padding=conv2_pad,\n",
        "                         activation=tf.nn.relu, name=\"conv2\")"
      ],
      "execution_count": 0,
      "outputs": []
    },
    {
      "metadata": {
        "id": "nqRdsMsk27dL",
        "colab_type": "code",
        "colab": {
          "autoexec": {
            "startup": false,
            "wait_interval": 0
          }
        }
      },
      "cell_type": "code",
      "source": [
        "# Defining pooling layer\n",
        "with tf.name_scope(\"pool3\"):\n",
        "    pool3 = tf.nn.max_pool(conv2, ksize=[1, 2, 2, 1], strides=[1, 2, 2, 1], padding=\"VALID\")\n",
        "    pool3_flat = tf.reshape(pool3, shape=[-1, pool3_fmaps * 14 * 14])\n",
        "    pool3_flat_drop = tf.layers.dropout(pool3_flat, conv2_dropout_rate, training=training)\n"
      ],
      "execution_count": 0,
      "outputs": []
    },
    {
      "metadata": {
        "id": "jKizEN1QOIwE",
        "colab_type": "code",
        "colab": {
          "autoexec": {
            "startup": false,
            "wait_interval": 0
          }
        }
      },
      "cell_type": "code",
      "source": [
        "# defining fully conneccted layers and training\n",
        "with tf.name_scope(\"fc1\"):\n",
        "    fc1 = tf.layers.dense(pool3_flat_drop, n_fc1, activation=tf.nn.relu, name=\"fc1\")\n",
        "    fc1_drop = tf.layers.dropout(fc1, fc1_dropout_rate, training=training)\n",
        "\n",
        "with tf.name_scope(\"output\"):\n",
        "    logits = tf.layers.dense(fc1, n_outputs, name=\"output\")\n",
        "    Y_proba = tf.nn.softmax(logits, name=\"Y_proba\")\n",
        "\n",
        "with tf.name_scope(\"train\"):\n",
        "    xentropy = tf.nn.sparse_softmax_cross_entropy_with_logits(logits=logits, labels=y)\n",
        "    loss = tf.reduce_mean(xentropy)\n",
        "    optimizer = tf.train.AdamOptimizer()\n",
        "    training_op = optimizer.minimize(loss)\n",
        "\n",
        "with tf.name_scope(\"eval\"):\n",
        "    correct = tf.nn.in_top_k(logits, y, 1)\n",
        "    accuracy = tf.reduce_mean(tf.cast(correct, tf.float32))\n",
        "\n",
        "with tf.name_scope(\"init_and_save\"):\n",
        "    init = tf.global_variables_initializer()\n",
        "    saver = tf.train.Saver()"
      ],
      "execution_count": 0,
      "outputs": []
    },
    {
      "metadata": {
        "id": "M1cNu8TE3OMi",
        "colab_type": "code",
        "colab": {
          "autoexec": {
            "startup": false,
            "wait_interval": 0
          },
          "base_uri": "https://localhost:8080/",
          "height": 367
        },
        "outputId": "d5b884cf-65bb-4b99-c40e-9c083c4465ad",
        "executionInfo": {
          "status": "ok",
          "timestamp": 1527295271885,
          "user_tz": 240,
          "elapsed": 7303,
          "user": {
            "displayName": "Bigyan Karki",
            "photoUrl": "//lh6.googleusercontent.com/-1_WgSj73vQY/AAAAAAAAAAI/AAAAAAAAAG8/O0NN7aIn-xc/s50-c-k-no/photo.jpg",
            "userId": "103358866459752693313"
          }
        }
      },
      "cell_type": "code",
      "source": [
        "# ------------------ Execution phase ---------------------------\n",
        "# Import dataset\n",
        "from tensorflow.examples.tutorials.mnist import input_data\n",
        "mnist = input_data.read_data_sets(\"/tmp/data/\")"
      ],
      "execution_count": 6,
      "outputs": [
        {
          "output_type": "stream",
          "text": [
            "WARNING:tensorflow:From <ipython-input-6-c50d5bb4a85c>:2: read_data_sets (from tensorflow.contrib.learn.python.learn.datasets.mnist) is deprecated and will be removed in a future version.\n",
            "Instructions for updating:\n",
            "Please use alternatives such as official/mnist/dataset.py from tensorflow/models.\n",
            "WARNING:tensorflow:From /usr/local/lib/python3.6/dist-packages/tensorflow/contrib/learn/python/learn/datasets/mnist.py:260: maybe_download (from tensorflow.contrib.learn.python.learn.datasets.base) is deprecated and will be removed in a future version.\n",
            "Instructions for updating:\n",
            "Please write your own downloading logic.\n",
            "WARNING:tensorflow:From /usr/local/lib/python3.6/dist-packages/tensorflow/contrib/learn/python/learn/datasets/mnist.py:262: extract_images (from tensorflow.contrib.learn.python.learn.datasets.mnist) is deprecated and will be removed in a future version.\n",
            "Instructions for updating:\n",
            "Please use tf.data to implement this functionality.\n",
            "Extracting /tmp/data/train-images-idx3-ubyte.gz\n",
            "WARNING:tensorflow:From /usr/local/lib/python3.6/dist-packages/tensorflow/contrib/learn/python/learn/datasets/mnist.py:267: extract_labels (from tensorflow.contrib.learn.python.learn.datasets.mnist) is deprecated and will be removed in a future version.\n",
            "Instructions for updating:\n",
            "Please use tf.data to implement this functionality.\n",
            "Extracting /tmp/data/train-labels-idx1-ubyte.gz\n",
            "Extracting /tmp/data/t10k-images-idx3-ubyte.gz\n",
            "Extracting /tmp/data/t10k-labels-idx1-ubyte.gz\n",
            "WARNING:tensorflow:From /usr/local/lib/python3.6/dist-packages/tensorflow/contrib/learn/python/learn/datasets/mnist.py:290: DataSet.__init__ (from tensorflow.contrib.learn.python.learn.datasets.mnist) is deprecated and will be removed in a future version.\n",
            "Instructions for updating:\n",
            "Please use alternatives such as official/mnist/dataset.py from tensorflow/models.\n"
          ],
          "name": "stdout"
        }
      ]
    },
    {
      "metadata": {
        "id": "ujlWupsm3kqv",
        "colab_type": "code",
        "colab": {
          "autoexec": {
            "startup": false,
            "wait_interval": 0
          }
        }
      },
      "cell_type": "code",
      "source": [
        "# Restoring best parameters\n",
        "def get_model_params():\n",
        "    gvars = tf.get_collection(tf.GraphKeys.GLOBAL_VARIABLES)\n",
        "    return {gvar.op.name: value for gvar, value in zip(gvars, tf.get_default_session().run(gvars))}\n",
        "\n",
        "def restore_model_params(model_params):\n",
        "    gvar_names = list(model_params.keys())\n",
        "    assign_ops = {gvar_name: tf.get_default_graph().get_operation_by_name(gvar_name + \"/Assign\")\n",
        "                  for gvar_name in gvar_names}\n",
        "    init_values = {gvar_name: assign_op.inputs[1] for gvar_name, assign_op in assign_ops.items()}\n",
        "    feed_dict = {init_values[gvar_name]: model_params[gvar_name] for gvar_name in gvar_names}\n",
        "    tf.get_default_session().run(assign_ops, feed_dict=feed_dict)\n"
      ],
      "execution_count": 0,
      "outputs": []
    },
    {
      "metadata": {
        "id": "1JetFeQc4-It",
        "colab_type": "code",
        "colab": {
          "autoexec": {
            "startup": false,
            "wait_interval": 0
          },
          "base_uri": "https://localhost:8080/",
          "height": 278
        },
        "outputId": "dc63a888-7e2e-46d1-e8c0-32cc9740d6c8",
        "executionInfo": {
          "status": "ok",
          "timestamp": 1527295412638,
          "user_tz": 240,
          "elapsed": 139874,
          "user": {
            "displayName": "Bigyan Karki",
            "photoUrl": "//lh6.googleusercontent.com/-1_WgSj73vQY/AAAAAAAAAAI/AAAAAAAAAG8/O0NN7aIn-xc/s50-c-k-no/photo.jpg",
            "userId": "103358866459752693313"
          }
        }
      },
      "cell_type": "code",
      "source": [
        "# Defining learning parameters and batch size and training\n",
        "n_epochs = 1000\n",
        "batch_size = 50\n",
        "\n",
        "best_loss_val = np.infty\n",
        "check_interval = 500\n",
        "checks_since_last_progress = 0\n",
        "max_checks_without_progress = 20\n",
        "best_model_params = None \n",
        "\n",
        "with tf.Session() as sess:\n",
        "    init.run()\n",
        "    for epoch in range(n_epochs):\n",
        "        for iteration in range(mnist.train.num_examples // batch_size):\n",
        "            X_batch, y_batch = mnist.train.next_batch(batch_size)\n",
        "            sess.run(training_op, feed_dict={X: X_batch, y: y_batch, training: True})\n",
        "            if iteration % check_interval == 0:\n",
        "                loss_val = loss.eval(feed_dict={X: mnist.validation.images,\n",
        "                                                y: mnist.validation.labels})\n",
        "                if loss_val < best_loss_val:\n",
        "                    best_loss_val = loss_val\n",
        "                    checks_since_last_progress = 0\n",
        "                    best_model_params = get_model_params()\n",
        "                else:\n",
        "                    checks_since_last_progress += 1\n",
        "        acc_train = accuracy.eval(feed_dict={X: X_batch, y: y_batch})\n",
        "        acc_val = accuracy.eval(feed_dict={X: mnist.validation.images,\n",
        "                                           y: mnist.validation.labels})\n",
        "        print(\"Epoch {}, train accuracy: {:.4f}%, valid. accuracy: {:.4f}%, valid. best loss: {:.6f}\".format(\n",
        "                  epoch, acc_train * 100, acc_val * 100, best_loss_val))\n",
        "        if checks_since_last_progress > max_checks_without_progress:\n",
        "            print(\"Early stopping!\")\n",
        "            break\n",
        "\n",
        "    if best_model_params:\n",
        "        restore_model_params(best_model_params)\n",
        "    acc_test = accuracy.eval(feed_dict={X: mnist.test.images,\n",
        "                                        y: mnist.test.labels})\n",
        "    print(\"Final accuracy on test set:\", acc_test)\n",
        "    save_path = saver.save(sess, \"./my_mnist_model\")"
      ],
      "execution_count": 8,
      "outputs": [
        {
          "output_type": "stream",
          "text": [
            "Epoch 0, train accuracy: 100.0000%, valid. accuracy: 98.2600%, valid. best loss: 0.062910\n",
            "Epoch 1, train accuracy: 98.0000%, valid. accuracy: 98.5200%, valid. best loss: 0.043840\n",
            "Epoch 2, train accuracy: 100.0000%, valid. accuracy: 98.4800%, valid. best loss: 0.043840\n",
            "Epoch 3, train accuracy: 100.0000%, valid. accuracy: 98.8200%, valid. best loss: 0.041461\n",
            "Epoch 4, train accuracy: 100.0000%, valid. accuracy: 98.8600%, valid. best loss: 0.039180\n",
            "Epoch 5, train accuracy: 100.0000%, valid. accuracy: 98.8200%, valid. best loss: 0.036574\n",
            "Epoch 6, train accuracy: 100.0000%, valid. accuracy: 99.0200%, valid. best loss: 0.036574\n",
            "Epoch 7, train accuracy: 100.0000%, valid. accuracy: 98.9400%, valid. best loss: 0.036574\n",
            "Epoch 8, train accuracy: 100.0000%, valid. accuracy: 99.0200%, valid. best loss: 0.036574\n",
            "Epoch 9, train accuracy: 100.0000%, valid. accuracy: 98.9800%, valid. best loss: 0.036574\n",
            "Epoch 10, train accuracy: 100.0000%, valid. accuracy: 99.1400%, valid. best loss: 0.036574\n",
            "Epoch 11, train accuracy: 100.0000%, valid. accuracy: 99.1200%, valid. best loss: 0.036574\n",
            "Epoch 12, train accuracy: 100.0000%, valid. accuracy: 99.0800%, valid. best loss: 0.036574\n",
            "Early stopping!\n",
            "Final accuracy on test set: 0.9898\n"
          ],
          "name": "stdout"
        }
      ]
    }
  ]
}