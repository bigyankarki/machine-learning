{
 "cells": [
  {
   "cell_type": "code",
   "execution_count": 1,
   "metadata": {},
   "outputs": [],
   "source": [
    "import pandas as pd\n",
    "points = pd.read_csv('data.csv') #import dataset "
   ]
  },
  {
   "cell_type": "code",
   "execution_count": 2,
   "metadata": {},
   "outputs": [],
   "source": [
    "x, y = points['hours'], points['grade']"
   ]
  },
  {
   "cell_type": "code",
   "execution_count": 3,
   "metadata": {
    "scrolled": true
   },
   "outputs": [
    {
     "data": {
      "image/png": "[encoded data removed]",
      "text/plain": [
       "<matplotlib.figure.Figure at 0x7f4b5ffe5fd0>"
      ]
     },
     "metadata": {},
     "output_type": "display_data"
    }
   ],
   "source": [
    "%matplotlib inline\n",
    "import matplotlib.pyplot as plt # import matplotlib for visualization\n",
    "\n",
    "plt.scatter(x, y) # let's see how the data looks in scatter plot.\n",
    "plt.show()"
   ]
  },
  {
   "cell_type": "code",
   "execution_count": 4,
   "metadata": {},
   "outputs": [],
   "source": [
    "# The data looks pretty consistent. Students who studied more hours got higher marks.\n",
    "# Let's try to find out the line of best fit.\n",
    "\n",
    "# The line of best fit is a straight line that passes through the points with the least distance between each points.\n",
    "# okay! It's pretty intuitive to me. But, how do we do teach this to computer?\n",
    "\n",
    "# NOTE:equation of a straigh line is y = mx+c , where m = gradient and c = y-intercept.\n",
    "# Step 1: Let's initialize m = 0 and c = 0 at first, so that initial line passes through  y = 0 i.e x-axis.\n",
    "# Step 2: We will calculate the distance between the line and each point in the graph, and add that together error = sum(y-y')\n",
    "# step 3: To make computation faster, we will square the differnece between points. error = 1/2M(sum((y-y')^2)).\n",
    "# error = sum((y-y')^2). well, scientist call that Sum of Squared Error Function or Cost Function.\n",
    "\n",
    "# We will repeat this process by changing the value of m and b over certain number so that we can get wide range of errors.\n",
    "# But, how do we change the value of m and b? That's where Gradient Descent Comes into play."
   ]
  },
  {
   "cell_type": "code",
   "execution_count": 5,
   "metadata": {},
   "outputs": [],
   "source": [
    "def cost_function(m, c, x, y):\n",
    "    error = 0\n",
    "    for i in range(len(x)):\n",
    "        new_y = m * x[i] + c\n",
    "        error += (new_y - y[i]) ** 2\n",
    "    actual_error = error / (2 * float(len(x)))\n",
    "    return actual_error"
   ]
  },
  {
   "cell_type": "code",
   "execution_count": 6,
   "metadata": {},
   "outputs": [],
   "source": [
    "def step_function(m, c, x, y, learning_rate):\n",
    "    step_m = 0\n",
    "    step_c = 0\n",
    "    n = float(len(x))\n",
    "    for i in range(0, len(x)):\n",
    "        step_m += ((((m * x[i]) + c) - y[i]) * x[i]) / n  \n",
    "        step_c += (((m * x[i]) + c) - y[i]) / n \n",
    "    new_m = m - (learning_rate * step_m)\n",
    "    new_c = c - (learning_rate * step_c)\n",
    "    return [new_m, new_c]"
   ]
  },
  {
   "cell_type": "code",
   "execution_count": 7,
   "metadata": {},
   "outputs": [],
   "source": [
    "def gradient_descent(m, c, x, y, no_of_iterations):\n",
    "    for i in range(no_of_iterations):\n",
    "        m, c = step_function(m, c, x, y, 0.0001)\n",
    "    return [m, c]"
   ]
  },
  {
   "cell_type": "code",
   "execution_count": 8,
   "metadata": {},
   "outputs": [],
   "source": [
    "def show_graph(m, c):\n",
    "    draw_line = [m * x[i] + c for i in range(len(x))]\n",
    "    plt.ylabel(\"Grades\")\n",
    "    plt.xlabel(\"Hours Studied\")\n",
    "    plt.scatter(x,y)\n",
    "    plt.plot(x, draw_line)\n",
    "    plt.show()"
   ]
  },
  {
   "cell_type": "code",
   "execution_count": 11,
   "metadata": {},
   "outputs": [],
   "source": [
    "def run():\n",
    "    # initialize the parameters for m and c.\n",
    "    initial_m = 0\n",
    "    initial_c = 0\n",
    "    \n",
    "    # setting up hyper-parameters for gradient descent.\n",
    "    no_of_iterations = 1000\n",
    "    \n",
    "    # lets see how it looks at first\n",
    "    print(\"Initial m = {0}, Initial c = {1}, and the error is {2}.\".format(initial_m, initial_c, cost_function(initial_m, initial_c, x, y)))\n",
    "    \n",
    "    # get the value after gradient descent is performed. This m and c is the optimal value where error is the least.\n",
    "    [m, c] = gradient_descent(initial_m, initial_c, x, y, no_of_iterations)\n",
    "    \n",
    "    print(\"After {0} iterations, m = {1}, c = {2}, and the error is {3}.\".format(no_of_iterations, m, c, cost_function(m, c, x, y)))\n",
    "    \n",
    "    show_graph(m, c)"
   ]
  },
  {
   "cell_type": "code",
   "execution_count": 12,
   "metadata": {},
   "outputs": [
    {
     "name": "stdout",
     "output_type": "stream",
     "text": [
      "Initial m = 0, Initial c = 0, and the error is 2782.553917241605.\n",
      "After 1000 iterations, m = 1.4783313274545458, c = 0.0590585566421608, and the error is 56.316335393554716.\n"
     ]
    },
    {
     "data": {
      "image/png": "[encoded data removed]",
      "text/plain": [
       "<matplotlib.figure.Figure at 0x7f4b5bdb2ac8>"
      ]
     },
     "metadata": {},
     "output_type": "display_data"
    }
   ],
   "source": [
    "run()"
   ]
  },
  {
   "cell_type": "code",
   "execution_count": null,
   "metadata": {},
   "outputs": [],
   "source": []
  }
 ],
 "metadata": {
  "kernelspec": {
   "display_name": "Python 3",
   "language": "python",
   "name": "python3"
  },
  "language_info": {
   "codemirror_mode": {
    "name": "ipython",
    "version": 3
   },
   "file_extension": ".py",
   "mimetype": "text/x-python",
   "name": "python",
   "nbconvert_exporter": "python",
   "pygments_lexer": "ipython3",
   "version": "3.6.3"
  }
 },
 "nbformat": 4,
 "nbformat_minor": 2
}
