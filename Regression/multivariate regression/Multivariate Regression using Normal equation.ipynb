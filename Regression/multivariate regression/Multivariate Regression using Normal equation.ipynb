{
 "cells": [
  {
   "cell_type": "code",
   "execution_count": 1,
   "metadata": {},
   "outputs": [],
   "source": [
    "import numpy as np\n",
    "from numpy.linalg import pinv\n",
    "from numpy.linalg import lstsq\n",
    "data = np.genfromtxt('diabetes.csv', delimiter=',')"
   ]
  },
  {
   "cell_type": "code",
   "execution_count": 2,
   "metadata": {},
   "outputs": [],
   "source": [
    "points = data[1:]"
   ]
  },
  {
   "cell_type": "code",
   "execution_count": 3,
   "metadata": {},
   "outputs": [
    {
     "data": {
      "text/plain": [
       "(9, 768)"
      ]
     },
     "execution_count": 3,
     "metadata": {},
     "output_type": "execute_result"
    }
   ],
   "source": [
    "points = points.T\n",
    "points.shape"
   ]
  },
  {
   "cell_type": "code",
   "execution_count": 4,
   "metadata": {},
   "outputs": [
    {
     "name": "stdout",
     "output_type": "stream",
     "text": [
      "(768, 9) (768,) (768,)\n"
     ]
    }
   ],
   "source": [
    "x, y = points[:-1], points[-1]\n",
    "z = np.zeros((768))\n",
    "x = x.T\n",
    "y = y.T\n",
    "x = np.c_[z, x]\n",
    "print(x.shape, y.shape, z.shape)"
   ]
  },
  {
   "cell_type": "code",
   "execution_count": 11,
   "metadata": {},
   "outputs": [],
   "source": [
    "def least_squared_error(x, y, thetta):\n",
    "    error_sum = 0\n",
    "    m, n = x.shape\n",
    "    for j in range(0, m):\n",
    "        for i in range(1, n):\n",
    "            error_sum += (thetta.T[i] * x[i] - y[i]) ** 2\n",
    "    return (error_sum) / (2 * m)"
   ]
  },
  {
   "cell_type": "code",
   "execution_count": 12,
   "metadata": {},
   "outputs": [],
   "source": [
    "def normal_equation(x, y):\n",
    "    final_thetta = pinv(x.T.dot(x)).dot(x.T).dot(y)\n",
    "    return final_thetta"
   ]
  },
  {
   "cell_type": "code",
   "execution_count": 13,
   "metadata": {},
   "outputs": [],
   "source": [
    "def run():\n",
    "    \n",
    "    # initial parameters\n",
    "    initial_thetta = np.ones((9))\n",
    "    \n",
    "    print(\"Initial erorr is {1} \\n\".format(initial_thetta, least_squared_error(x, y ,initial_thetta)))\n",
    "    \n",
    "    final_thetta = normal_equation(x, y)\n",
    "    \n",
    "    print(\"Final thetta is {0}. \\n\\n The erorr is {1}\".format(final_thetta, least_squared_error(x, y ,final_thetta)))"
   ]
  },
  {
   "cell_type": "code",
   "execution_count": 14,
   "metadata": {},
   "outputs": [
    {
     "name": "stdout",
     "output_type": "stream",
     "text": [
      "Initial erorr is [2.0000000e+00 9.1000000e+01 6.8896000e+04 1.3420000e+04 2.7120000e+03\n",
      " 1.6902950e+05 3.7192850e+03 1.6252215e+00 4.2285000e+03] \n",
      "\n",
      "Final thetta is [ 0.00000000e+00  2.46554784e-02  3.86639820e-03 -4.91162585e-03\n",
      "  5.75161548e-05  4.78331990e-05  4.18631699e-03  9.80129310e-02\n",
      " -1.04267995e-03]. \n",
      "\n",
      " The erorr is [ 2.          2.4397974  67.30297901  3.04564865  2.18302078  2.52287838\n",
      "  8.03233604  1.99652469  6.17286182]\n"
     ]
    }
   ],
   "source": [
    "run()"
   ]
  },
  {
   "cell_type": "code",
   "execution_count": null,
   "metadata": {},
   "outputs": [],
   "source": []
  },
  {
   "cell_type": "code",
   "execution_count": null,
   "metadata": {},
   "outputs": [],
   "source": []
  }
 ],
 "metadata": {
  "kernelspec": {
   "display_name": "Python 3",
   "language": "python",
   "name": "python3"
  },
  "language_info": {
   "codemirror_mode": {
    "name": "ipython",
    "version": 3
   },
   "file_extension": ".py",
   "mimetype": "text/x-python",
   "name": "python",
   "nbconvert_exporter": "python",
   "pygments_lexer": "ipython3",
   "version": "3.6.3"
  }
 },
 "nbformat": 4,
 "nbformat_minor": 2
}
